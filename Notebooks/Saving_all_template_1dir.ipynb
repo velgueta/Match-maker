{
 "cells": [
  {
   "cell_type": "code",
   "execution_count": null,
   "id": "41502c24",
   "metadata": {},
   "outputs": [],
   "source": [
    "import h5py\n",
    "import matplotlib.pyplot as plt\n",
    "from scipy.signal import butter, filtfilt, find_peaks\n",
    "import numpy as np\n",
    "import datetime\n",
    "import pandas as pd\n",
    "import obspy\n",
    "from obspy import UTCDateTime\n",
    "from obspy.clients.fdsn import Client\n",
    "import time\n",
    "import glob\n",
    "import os\n",
    "import pytz\n",
    "from tqdm import tqdm\n",
    "import csv\n",
    "import matplotlib.dates as mdates\n",
    "import csv\n",
    "import re\n",
    "\n"
   ]
  },
  {
   "cell_type": "code",
   "execution_count": null,
   "id": "27fd939a",
   "metadata": {},
   "outputs": [],
   "source": [
    "#first we want to visualize each template and the save it in one .h5 file\n",
    "#1) we to create a folder that contain the templates. en el archivo \"converted_dates_and_values_rainier_5days.txt\" estan todos los templates a utilizar\n",
    "#2) we need to explore the iteration of open and the save for each correlation of template \n",
    "\n",
    "#*details:\n",
    "    \n",
    "#the templates are 20 samples for file, and 1 min file is 1200, that's mean that the template is 1s long\n",
    "\n",
    "\n",
    "# Read the content of the file\n",
    "with open(\"converted_dates_and_values_rainier_5days.txt\", \"r\") as file:\n",
    "    content = file.readlines()\n",
    "\n",
    "# Parse the content and create a list of lists\n",
    "data = [line.strip().split() for line in content]\n",
    "\n",
    "# Convert the list of lists to a NumPy array\n",
    "array_data = np.array(data)\n",
    "\n",
    "id_and_dates = array_data\n",
    "\n",
    "# Convert the list of lists to a pandas DataFrame\n",
    "#df = pd.DataFrame(data)\n",
    "#fechas = df[1]\n",
    "\n",
    "# Display the NumPy array\n",
    "#print(\"NumPy array:\")\n",
    "#print(array_data)\n",
    "\n",
    "# Display the DataFrame\n",
    "#print(\"\\nDataFrame:\")\n",
    "#print(id_and_dates)\n",
    "\n"
   ]
  },
  {
   "cell_type": "code",
   "execution_count": null,
   "id": "aa39a2cd",
   "metadata": {},
   "outputs": [],
   "source": [
    "fecha = id_and_dates[22][1]\n",
    "fecha"
   ]
  },
  {
   "cell_type": "code",
   "execution_count": null,
   "id": "7f2cc4d7",
   "metadata": {},
   "outputs": [],
   "source": [
    "#parameters templates\n",
    "\n",
    "chan_min = 0\n",
    "chan_max = -1#2500\n",
    "\n",
    "channel_number = chan_max -chan_min\n",
    "\n",
    "#Filter\n",
    "low_cut1 = 2\n",
    "hi_cut1 = 9.0\n",
    "#fs=attrs['MaximumFrequency']*2\n",
    "fs = 20\n",
    "samples_per_file = 60*fs"
   ]
  },
  {
   "cell_type": "markdown",
   "id": "aacd1af0",
   "metadata": {},
   "source": [
    "# Buiding Templates and save it .h5 files"
   ]
  },
  {
   "cell_type": "code",
   "execution_count": null,
   "id": "9cb5fc35",
   "metadata": {},
   "outputs": [],
   "source": [
    "#first version, just one event\n",
    "\n",
    "templates_folder = '/data/data4/veronica-scratch-rainier/templates-files'\n",
    "\n",
    "# Ruta del archivo HDF5\n",
    "\n",
    "template_path = '/data/fast1/veronica-scratch-rainier-downsampling/drive1_ds/new_decimator_2023-08-27_10.10.00_UTC.h5'\n",
    "\n",
    "#template2 \n",
    "#rawdata_path = '/data/data4/veronica-scratch-rainier/drive1_ds/new_decimator_2023-08-27_11.38.00_UTC.h5'\n",
    "\n",
    "\n",
    "# Abrir el archivo HDF5\n",
    "with h5py.File(template_path, 'r') as f:\n",
    "    # Acceder a los datos que deseas\n",
    "    rawdata = f['Acquisition/Raw[0]/RawData']\n",
    "\n",
    "    # convert the template in a numpy array\n",
    "    this_template = np.array(rawdata[:, chan_min:chan_max])\n",
    "    this_time = np.array(f['Acquisition/Raw[0]/RawDataTime'])\n",
    "    attrs = dict(f['Acquisition'].attrs)\n",
    "    #closing file\n",
    "    f.close()\n",
    "    \n",
    "# filtering\n",
    "b, a = butter(2, (low_cut1, hi_cut1), 'bp', fs=fs)\n",
    "template_filt = filtfilt(b, a, this_template, axis=0)\n",
    "template = template_filt[400:1000,:]\n",
    "plt.imshow(template.T, cmap='seismic',aspect='auto',vmin=-0.05,vmax=0.05)\n",
    "plt.show()"
   ]
  },
  {
   "cell_type": "code",
   "execution_count": null,
   "id": "59623a39",
   "metadata": {},
   "outputs": [],
   "source": [
    "#saving it \n",
    "# Build the full path of the new .h5 file\n",
    "output_folder = templates_folder\n",
    "new_file_path = os.path.join(output_folder, f\"{fecha}.h5\")\n",
    "\n",
    "            \n",
    "            # Save the data into a new .h5 file\n",
    "with h5py.File(new_file_path, 'w') as new_file:\n",
    "    new_file.create_dataset('Acquisition/Raw[0]/RawData', data=template)\n",
    "    new_file.create_dataset('Acquisition/Raw[0]/RawDataTime', data=this_time, dtype='f8')\n",
    "    new_file['Acquisition'].attrs.update(attrs)"
   ]
  },
  {
   "cell_type": "code",
   "execution_count": null,
   "id": "9cffa210",
   "metadata": {},
   "outputs": [],
   "source": [
    "import os\n",
    "import h5py\n",
    "import numpy as np\n",
    "\n",
    "templates_folder = '/data/data4/veronica-scratch-rainier/templates-files'\n",
    "\n",
    "# Listar todos los archivos en el directorio\n",
    "template_files = os.listdir(templates_folder)\n",
    "\n",
    "# Iterar sobre los archivos\n",
    "for template_file in template_files:\n",
    "    # Construir la ruta completa del archivo\n",
    "    template_path = os.path.join(templates_folder, template_file)\n",
    "    \n",
    "    # Abrir el archivo HDF5\n",
    "    with h5py.File(template_path, 'r') as f:\n",
    "        # Acceder a los datos que deseas\n",
    "        rawdata = f['Acquisition/Raw[0]/RawData']\n",
    "\n",
    "        # Imprimir la forma del dataset\n",
    "        print(f\"Forma del archivo {template_file}: {rawdata.shape}\")\n",
    "        \n",
    "        # Convertir el template en un array NumPy\n",
    "        this_template = np.array(rawdata[:, chan_min:chan_max])\n",
    "        this_time = np.array(f['Acquisition/Raw[0]/RawDataTime'])\n",
    "        attrs = dict(f['Acquisition'].attrs)\n",
    "        \n",
    "        # Cerrar el archivo\n",
    "        f.close()\n"
   ]
  },
  {
   "cell_type": "code",
   "execution_count": null,
   "id": "8a3fd569",
   "metadata": {},
   "outputs": [],
   "source": [
    "this_template.shape"
   ]
  },
  {
   "cell_type": "code",
   "execution_count": null,
   "id": "723d324c",
   "metadata": {},
   "outputs": [],
   "source": []
  }
 ],
 "metadata": {
  "kernelspec": {
   "display_name": "Python (Obspy+LibComtCat)",
   "language": "python",
   "name": "python-obspy"
  },
  "language_info": {
   "codemirror_mode": {
    "name": "ipython",
    "version": 3
   },
   "file_extension": ".py",
   "mimetype": "text/x-python",
   "name": "python",
   "nbconvert_exporter": "python",
   "pygments_lexer": "ipython3",
   "version": "3.9.13"
  }
 },
 "nbformat": 4,
 "nbformat_minor": 5
}
