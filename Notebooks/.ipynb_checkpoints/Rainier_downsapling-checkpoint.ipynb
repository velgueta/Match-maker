{
 "cells": [
  {
   "cell_type": "code",
   "execution_count": 2,
   "id": "41502c24",
   "metadata": {},
   "outputs": [],
   "source": [
    "import h5py\n",
    "import matplotlib.pyplot as plt\n",
    "from scipy.signal import butter, filtfilt, decimate\n",
    "import numpy as np\n",
    "import datetime\n",
    "import pandas as pd\n",
    "import obspy\n",
    "from obspy import UTCDateTime\n",
    "from obspy.clients.fdsn import Client\n",
    "import time\n",
    "import glob\n",
    "import os\n",
    "import pytz\n",
    "from tqdm import tqdm\n",
    "import csv\n",
    "import matplotlib.dates as mdates"
   ]
  },
  {
   "cell_type": "code",
   "execution_count": 3,
   "id": "27fd939a",
   "metadata": {},
   "outputs": [
    {
     "data": {
      "text/plain": [
       "36753"
      ]
     },
     "execution_count": 3,
     "metadata": {},
     "output_type": "execute_result"
    }
   ],
   "source": [
    "#Loading template swarm 2023-08-27\n",
    "#loading files\n",
    "\n",
    "file_list = glob.glob(\"/auto/petasaur-wd15/rainier-10-14-2023-drive1/rainier/*\")\n",
    "\n",
    "file_list.sort()\n",
    "len(file_list)"
   ]
  },
  {
   "cell_type": "code",
   "execution_count": null,
   "id": "ea51b9eb",
   "metadata": {},
   "outputs": [],
   "source": [
    "data_file2 = h5py.File('/auto/petasaur-wd15/rainier-10-14-2023-drive1/rainier/decimator_2023-08-27_10.10.00_UTC.h5','r')"
   ]
  },
  {
   "cell_type": "code",
   "execution_count": null,
   "id": "5a4813e7",
   "metadata": {},
   "outputs": [],
   "source": [
    "data_file2\n",
    "chan_min=0\n",
    "chan_max=-1\n",
    "this_data2 = np.array(data_file2['Acquisition/Raw[0]/RawData'][:,chan_min:chan_max])\n",
    "this_time2 = np.array(data_file2['Acquisition/Raw[0]/RawDataTime'])\n"
   ]
  },
  {
   "cell_type": "code",
   "execution_count": 3,
   "id": "a5e0c62e",
   "metadata": {},
   "outputs": [
    {
     "name": "stdout",
     "output_type": "stream",
     "text": [
      "Tiempo total: 10337.368205309846 segundos\n"
     ]
    }
   ],
   "source": [
    "# Establishing frequencies\n",
    "\n",
    "original_frequency = 200  # Hz\n",
    "desire_frequency = 20    # Hz\n",
    "chan_min=0\n",
    "chan_max=-1\n",
    "\n",
    "# butter fuction\n",
    "orden_fiilter = 4\n",
    "cutoff_frequency = desire_frequency / 2.0  # Fequency in Hz\n",
    "\n",
    "#defining filter\n",
    "\n",
    "b, a = butter(orden_fiilter, cutoff_frequency / (original_frequency / 2.0), btype='low')\n",
    "\n",
    "# Iteration for file_list\n",
    "output_folder = \"/data/data4/veronica-scratch-rainier/drive1_ds\" #+ str(decimator)\n",
    "\n",
    "total_start_time = time.perf_counter()\n",
    "\n",
    "for file_name in file_list:\n",
    "    # loading  HDF5 files\n",
    "    with h5py.File(file_name, 'r') as file:\n",
    "        # Obtener el conjunto de datos\n",
    "        original_data = file['Acquisition/Raw[0]/RawData'][:, chan_min:chan_max]\n",
    "        original_time = np.array(file['Acquisition/Raw[0]/RawDataTime'])\n",
    "        attrs = dict(file['Acquisition'].attrs)  # Copy attrs\n",
    "        \n",
    "        \n",
    "\n",
    "    # Calcular el factor de decimación\n",
    "    factor_decimacion = original_frequency // desire_frequency\n",
    "\n",
    "    # Aplicar el filtro\n",
    "    data_filtrada = filtfilt(b, a, original_data, axis=0)\n",
    "\n",
    "    # Decimar el resultado\n",
    "    downsampled_data = decimate(data_filtrada, factor_decimacion, axis=0)\n",
    "    \n",
    "    # decimation on time time too\n",
    "    downsampled_time = original_time[:original_time.shape[0]:factor_decimacion]\n",
    "    \n",
    "    #newfile name\n",
    "    output_file_name = f\"new_{file_name.split('/')[-1]}\"\n",
    "\n",
    "    #  saving them\n",
    "    with h5py.File(output_folder + '/' + output_file_name, 'w') as g:\n",
    "        g.create_dataset('Acquisition/Raw[0]/RawData', data=downsampled_data)\n",
    "        g.create_dataset('Acquisition/Raw[0]/RawDataTime', data=downsampled_time, dtype='f8')\n",
    "        g['Acquisition'].attrs.update(attrs)\n",
    "        g.close()\n",
    "\n",
    "total_end_time = time.perf_counter()\n",
    "        \n",
    "total_elapsed_time = total_end_time - total_start_time\n",
    "print(f\"Tiempo total: {total_elapsed_time} segundos\")\n"
   ]
  }
 ],
 "metadata": {
  "kernelspec": {
   "display_name": "Python (Obspy+LibComtCat)",
   "language": "python",
   "name": "python-obspy"
  },
  "language_info": {
   "codemirror_mode": {
    "name": "ipython",
    "version": 3
   },
   "file_extension": ".py",
   "mimetype": "text/x-python",
   "name": "python",
   "nbconvert_exporter": "python",
   "pygments_lexer": "ipython3",
   "version": "3.9.13"
  }
 },
 "nbformat": 4,
 "nbformat_minor": 5
}
